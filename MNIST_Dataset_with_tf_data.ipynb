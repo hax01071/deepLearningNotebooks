{
  "nbformat": 4,
  "nbformat_minor": 0,
  "metadata": {
    "colab": {
      "name": "MNIST Dataset with tf-data.ipynb",
      "version": "0.3.2",
      "provenance": [],
      "collapsed_sections": []
    },
    "kernelspec": {
      "name": "python3",
      "display_name": "Python 3"
    },
    "accelerator": "GPU"
  },
  "cells": [
    {
      "cell_type": "code",
      "metadata": {
        "id": "J3D5NOEGozYJ",
        "colab_type": "code",
        "colab": {}
      },
      "source": [
        "# Relevant imports\n",
        "import tensorflow as tf"
      ],
      "execution_count": 0,
      "outputs": []
    },
    {
      "cell_type": "code",
      "metadata": {
        "id": "juLKKNayKg44",
        "colab_type": "code",
        "colab": {
          "base_uri": "https://localhost:8080/",
          "height": 34
        },
        "outputId": "94f8ff29-086f-46d1-f33c-84e0925b9f4a"
      },
      "source": [
        "print(tf.__version__)"
      ],
      "execution_count": 29,
      "outputs": [
        {
          "output_type": "stream",
          "text": [
            "1.14.0\n"
          ],
          "name": "stdout"
        }
      ]
    },
    {
      "cell_type": "code",
      "metadata": {
        "id": "6Enq6awnqGDK",
        "colab_type": "code",
        "colab": {
          "base_uri": "https://localhost:8080/",
          "height": 51
        },
        "outputId": "d9c8e13e-b04a-4ffb-fb08-ddca71e2eebd"
      },
      "source": [
        "# Loading the data\n",
        "\"\"\"\n",
        "mnist = tf.keras.datasets.mnist\n",
        "(x_train, y_train), (x_test, y_test) = mnist.load_data()\n",
        "x_train, x_test = x_train / 255.0, x_test / 255.0\n",
        "\n",
        "dataset = dataset.repeat()\n",
        "\n",
        "dataset = dataset.batch(32)\n",
        "dataset = dataset.repeat() can be made dataset = dataset.batch(32).repeat()\n",
        "\"\"\"\n",
        "mnist = tf.keras.datasets.mnist\n",
        "(x_train, y_train), (x_test, y_test) = mnist.load_data()\n",
        "dataset = tf.data.Dataset.from_tensor_slices((x_train, y_train))\n",
        "print(\"x_train shape is:\" + str(x_train.shape))\n",
        "print(\"y_train shape is:\" + str(y_train.shape))\n",
        "dataset = dataset.batch(32).repeat()"
      ],
      "execution_count": 40,
      "outputs": [
        {
          "output_type": "stream",
          "text": [
            "x_train shape is:(60000, 28, 28)\n",
            "y_train shape is:(60000,)\n"
          ],
          "name": "stdout"
        }
      ]
    },
    {
      "cell_type": "code",
      "metadata": {
        "id": "GxMxD5E0qslA",
        "colab_type": "code",
        "colab": {}
      },
      "source": [
        "# Creating the model\n",
        "model = tf.keras.models.Sequential([\n",
        " tf.keras.layers.Flatten(input_shape=(28, 28)),\n",
        " tf.keras.layers.Dense(512, activation=tf.nn.relu),\n",
        " tf.keras.layers.Dropout(0.2),\n",
        " tf.keras.layers.Dense(10, activation=tf.nn.softmax)\n",
        "])"
      ],
      "execution_count": 0,
      "outputs": []
    },
    {
      "cell_type": "code",
      "metadata": {
        "id": "ogmAkmRqrGrf",
        "colab_type": "code",
        "colab": {}
      },
      "source": [
        "# Compiling the model\n",
        "model.compile(optimizer='adam',\n",
        "             loss='sparse_categorical_crossentropy',\n",
        "             metrics=['accuracy'])"
      ],
      "execution_count": 0,
      "outputs": []
    },
    {
      "cell_type": "code",
      "metadata": {
        "id": "jgqaPlTarI_f",
        "colab_type": "code",
        "outputId": "7df7c8aa-41a5-4781-b797-6d43a6ce8a0c",
        "colab": {
          "base_uri": "https://localhost:8080/",
          "height": 1000
        }
      },
      "source": [
        "# Fitting the model\n",
        "\"\"\"\n",
        "model.fit(x_train, y_train, epochs=5)\n",
        "ValueError: When passing an infinitely repeating dataset, you must specify the `steps_per_epoch` argument.\n",
        "W0729 16:03:52.395494 139823884515200 training_utils.py:1300] Expected a shuffled dataset but input dataset `x` is not shuffled. Please invoke `shuffle()` on input dataset.\n",
        "\"\"\"\n",
        "dataset = dataset.shuffle(buffer_size=1000)\n",
        "model.fit(dataset, epochs=30, steps_per_epoch=1000)"
      ],
      "execution_count": 38,
      "outputs": [
        {
          "output_type": "stream",
          "text": [
            "Epoch 1/30\n",
            "1000/1000 [==============================] - 3s 3ms/step - loss: 0.2707 - acc: 0.9473\n",
            "Epoch 2/30\n",
            "1000/1000 [==============================] - 2s 2ms/step - loss: 0.2563 - acc: 0.9473\n",
            "Epoch 3/30\n",
            "1000/1000 [==============================] - 2s 2ms/step - loss: 0.2719 - acc: 0.9465\n",
            "Epoch 4/30\n",
            "1000/1000 [==============================] - 2s 2ms/step - loss: 0.2620 - acc: 0.9471\n",
            "Epoch 5/30\n",
            "1000/1000 [==============================] - 2s 2ms/step - loss: 0.2716 - acc: 0.9475\n",
            "Epoch 6/30\n",
            "1000/1000 [==============================] - 2s 2ms/step - loss: 0.2396 - acc: 0.9507\n",
            "Epoch 7/30\n",
            "1000/1000 [==============================] - 2s 2ms/step - loss: 0.2554 - acc: 0.9484\n",
            "Epoch 8/30\n",
            "1000/1000 [==============================] - 2s 2ms/step - loss: 0.2727 - acc: 0.9474\n",
            "Epoch 9/30\n",
            "1000/1000 [==============================] - 2s 2ms/step - loss: 0.2508 - acc: 0.9508\n",
            "Epoch 10/30\n",
            "1000/1000 [==============================] - 2s 2ms/step - loss: 0.2595 - acc: 0.9519\n",
            "Epoch 11/30\n",
            "1000/1000 [==============================] - 2s 2ms/step - loss: 0.2732 - acc: 0.9475\n",
            "Epoch 12/30\n",
            "1000/1000 [==============================] - 2s 2ms/step - loss: 0.2746 - acc: 0.9495\n",
            "Epoch 13/30\n",
            "1000/1000 [==============================] - 2s 2ms/step - loss: 0.2473 - acc: 0.9483\n",
            "Epoch 14/30\n",
            "1000/1000 [==============================] - 2s 2ms/step - loss: 0.2752 - acc: 0.9465\n",
            "Epoch 15/30\n",
            "1000/1000 [==============================] - 2s 2ms/step - loss: 0.2483 - acc: 0.9496\n",
            "Epoch 16/30\n",
            "1000/1000 [==============================] - 2s 2ms/step - loss: 0.2511 - acc: 0.9504\n",
            "Epoch 17/30\n",
            "1000/1000 [==============================] - 2s 2ms/step - loss: 0.2648 - acc: 0.9488\n",
            "Epoch 18/30\n",
            "1000/1000 [==============================] - 2s 2ms/step - loss: 0.2807 - acc: 0.9507\n",
            "Epoch 19/30\n",
            "1000/1000 [==============================] - 2s 2ms/step - loss: 0.2473 - acc: 0.9522\n",
            "Epoch 20/30\n",
            "1000/1000 [==============================] - 2s 2ms/step - loss: 0.2552 - acc: 0.9518\n",
            "Epoch 21/30\n",
            "1000/1000 [==============================] - 2s 2ms/step - loss: 0.2541 - acc: 0.9505\n",
            "Epoch 22/30\n",
            "1000/1000 [==============================] - 2s 2ms/step - loss: 0.2595 - acc: 0.9509\n",
            "Epoch 23/30\n",
            "1000/1000 [==============================] - 2s 2ms/step - loss: 0.2385 - acc: 0.9510\n",
            "Epoch 24/30\n",
            "1000/1000 [==============================] - 2s 2ms/step - loss: 0.2325 - acc: 0.9537\n",
            "Epoch 25/30\n",
            "1000/1000 [==============================] - 2s 2ms/step - loss: 0.2349 - acc: 0.9516\n",
            "Epoch 26/30\n",
            "1000/1000 [==============================] - 2s 2ms/step - loss: 0.2104 - acc: 0.9551\n",
            "Epoch 27/30\n",
            "1000/1000 [==============================] - 2s 2ms/step - loss: 0.2651 - acc: 0.9490\n",
            "Epoch 28/30\n",
            "1000/1000 [==============================] - 2s 2ms/step - loss: 0.2466 - acc: 0.9510\n",
            "Epoch 29/30\n",
            "1000/1000 [==============================] - 2s 2ms/step - loss: 0.2530 - acc: 0.9521\n",
            "Epoch 30/30\n",
            "1000/1000 [==============================] - 2s 2ms/step - loss: 0.2396 - acc: 0.9503\n"
          ],
          "name": "stdout"
        },
        {
          "output_type": "execute_result",
          "data": {
            "text/plain": [
              "<tensorflow.python.keras.callbacks.History at 0x7f2a6e3beda0>"
            ]
          },
          "metadata": {
            "tags": []
          },
          "execution_count": 38
        }
      ]
    },
    {
      "cell_type": "code",
      "metadata": {
        "id": "SerdJpaprLjo",
        "colab_type": "code",
        "outputId": "258e1de2-5702-46c8-ca95-b4123a652058",
        "colab": {
          "base_uri": "https://localhost:8080/",
          "height": 51
        }
      },
      "source": [
        "# Evaluating the model\n",
        "model.evaluate(x_test, y_test)"
      ],
      "execution_count": 39,
      "outputs": [
        {
          "output_type": "stream",
          "text": [
            "10000/10000 [==============================] - 1s 51us/sample - loss: 0.7337 - acc: 0.9562\n"
          ],
          "name": "stdout"
        },
        {
          "output_type": "execute_result",
          "data": {
            "text/plain": [
              "[0.7336518170578973, 0.9562]"
            ]
          },
          "metadata": {
            "tags": []
          },
          "execution_count": 39
        }
      ]
    }
  ]
}